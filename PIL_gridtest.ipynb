{
  "nbformat": 4,
  "nbformat_minor": 0,
  "metadata": {
    "colab": {
      "name": "PIL_gridtest.ipynb",
      "provenance": [],
      "authorship_tag": "ABX9TyPFxsUEhb4xqW3RHJgUlqRW",
      "include_colab_link": true
    },
    "kernelspec": {
      "name": "python3",
      "display_name": "Python 3"
    }
  },
  "cells": [
    {
      "cell_type": "markdown",
      "metadata": {
        "id": "view-in-github",
        "colab_type": "text"
      },
      "source": [
        "<a href=\"https://colab.research.google.com/github/dylangh/website/blob/master/PIL_gridtest.ipynb\" target=\"_parent\"><img src=\"https://colab.research.google.com/assets/colab-badge.svg\" alt=\"Open In Colab\"/></a>"
      ]
    },
    {
      "cell_type": "code",
      "metadata": {
        "id": "B85AN_OzAH7g",
        "colab_type": "code",
        "colab": {}
      },
      "source": [
        "# Imports\n",
        "import random\n",
        "from PIL import Image,ImageOps # Image provides Image class, which reps a PIL image & provides load/create functions\n",
        "from os import listdir # listdir returns a list w/ names of entries in dir given by path (arb. order)\n",
        "from os.path import isfile, join # isfile returns True if path is an existing regular file; join concatenates paths"
      ],
      "execution_count": 1,
      "outputs": []
    },
    {
      "cell_type": "code",
      "metadata": {
        "id": "zWzKTzv_BxRw",
        "colab_type": "code",
        "colab": {
          "base_uri": "https://localhost:8080/",
          "height": 54
        },
        "outputId": "b0183d44-65a4-4a3f-9b54-b8c898f33a92"
      },
      "source": [
        "# Mount gdrive\n",
        "from google.colab import drive\n",
        "drive.mount('/content/gdrive')"
      ],
      "execution_count": 2,
      "outputs": [
        {
          "output_type": "stream",
          "text": [
            "Drive already mounted at /content/gdrive; to attempt to forcibly remount, call drive.mount(\"/content/gdrive\", force_remount=True).\n"
          ],
          "name": "stdout"
        }
      ]
    },
    {
      "cell_type": "code",
      "metadata": {
        "id": "RzC0mYrCASiB",
        "colab_type": "code",
        "colab": {
          "base_uri": "https://localhost:8080/",
          "height": 265
        },
        "outputId": "cfc73314-294f-491b-bf17-a6de04dd3b06"
      },
      "source": [
        "# Create list of files in target dir\n",
        "#files = [ f for f in listdir(\"/content/gdrive/My Drive/colab/PIL/PRAW/\") if isfile(join(\"/content/gdrive/My Drive/colab/PIL/PRAW/\", f)) ]\n",
        "folder = \"pics\"\n",
        "files = [ f for f in listdir(\"/content/gdrive/My Drive/colab/PIL/PRAW/\"+folder+\"/\") if isfile(join(\"/content/gdrive/My Drive/colab/PIL/PRAW/\"+folder+\"/\", f)) ]\n",
        "#print(files)\n",
        "size = 6000 # grid side length in pixels\n",
        "div = 6 # grid side length in cells (*must be a factor of size*)\n",
        "cell_size = int(size/div)\n",
        "index_list = [x for x in range(div**2)]\n",
        "\n",
        "#Create new Image\n",
        "new_im = Image.new('RGB', (size,size))\n",
        "\n",
        "# Create grid of image thumbnails\n",
        "count = 0\n",
        "\n",
        "while len(index_list)>0:\n",
        "  #print(\"picking another picture, {} left to choose\".format(len(index_list)))\n",
        "  for i in range(0,size,cell_size):\n",
        "      for j in range(0,size,cell_size):\n",
        "          index = index_list.pop(random.randrange(len(index_list)))\n",
        "          im = Image.open(join(\"/content/gdrive/My Drive/colab/PIL/PRAW/\"+folder+\"/\", files[index]))\n",
        "          #im = ImageOps.grayscale(im)\n",
        "          #ImageOps.pad(im,(cell_size,cell_size))\n",
        "          #im.thumbnail((cell_size,cell_size)) # \n",
        "          #ImageOps.fit(im,(cell_size,im.height))\n",
        "          \n",
        "          dims = [im.width, im.height]\n",
        "          dims.sort()\n",
        "          print(im.width,im.height)\n",
        "          #ImageOps.scale(im,(cell_size/dims[0]))\n",
        "          factor = cell_size/dims[0]\n",
        "          print(factor)\n",
        "          im_re = im.resize((int(im.width*factor),int(im.height*factor)))\n",
        "          print(im_re.width,im_re.height)\n",
        "          new_im.paste(im_re, (i,j))\n",
        "          count += 1\n",
        "          print(files[index], len(index_list))\n",
        "\n",
        "# Save Image as image\n",
        "new_im.save(\"/content/gdrive/My Drive/colab/PIL/PRAW/\"+folder+\"/\"+folder+\"_grid.png\")\n",
        "new_im.save(\"/content/gdrive/My Drive/colab/PIL/PRAW/grids/\"+folder+\"_grid.png\")"
      ],
      "execution_count": 15,
      "outputs": [
        {
          "output_type": "error",
          "ename": "FileNotFoundError",
          "evalue": "ignored",
          "traceback": [
            "\u001b[0;31m---------------------------------------------------------------------------\u001b[0m",
            "\u001b[0;31mFileNotFoundError\u001b[0m                         Traceback (most recent call last)",
            "\u001b[0;32m<ipython-input-15-1d8bee6db558>\u001b[0m in \u001b[0;36m<module>\u001b[0;34m()\u001b[0m\n\u001b[1;32m      2\u001b[0m \u001b[0;31m#files = [ f for f in listdir(\"/content/gdrive/My Drive/colab/PIL/PRAW/\") if isfile(join(\"/content/gdrive/My Drive/colab/PIL/PRAW/\", f)) ]\u001b[0m\u001b[0;34m\u001b[0m\u001b[0;34m\u001b[0m\u001b[0;34m\u001b[0m\u001b[0m\n\u001b[1;32m      3\u001b[0m \u001b[0mfolder\u001b[0m \u001b[0;34m=\u001b[0m \u001b[0;34m\"pics\"\u001b[0m\u001b[0;34m\u001b[0m\u001b[0;34m\u001b[0m\u001b[0m\n\u001b[0;32m----> 4\u001b[0;31m \u001b[0mfiles\u001b[0m \u001b[0;34m=\u001b[0m \u001b[0;34m[\u001b[0m \u001b[0mf\u001b[0m \u001b[0;32mfor\u001b[0m \u001b[0mf\u001b[0m \u001b[0;32min\u001b[0m \u001b[0mlistdir\u001b[0m\u001b[0;34m(\u001b[0m\u001b[0;34m\"/content/gdrive/My Drive/colab/PIL/PRAW/\"\u001b[0m\u001b[0;34m+\u001b[0m\u001b[0mfolder\u001b[0m\u001b[0;34m+\u001b[0m\u001b[0;34m\"/\"\u001b[0m\u001b[0;34m)\u001b[0m \u001b[0;32mif\u001b[0m \u001b[0misfile\u001b[0m\u001b[0;34m(\u001b[0m\u001b[0mjoin\u001b[0m\u001b[0;34m(\u001b[0m\u001b[0;34m\"/content/gdrive/My Drive/colab/PIL/PRAW/\"\u001b[0m\u001b[0;34m+\u001b[0m\u001b[0mfolder\u001b[0m\u001b[0;34m+\u001b[0m\u001b[0;34m\"/\"\u001b[0m\u001b[0;34m,\u001b[0m \u001b[0mf\u001b[0m\u001b[0;34m)\u001b[0m\u001b[0;34m)\u001b[0m \u001b[0;34m]\u001b[0m\u001b[0;34m\u001b[0m\u001b[0;34m\u001b[0m\u001b[0m\n\u001b[0m\u001b[1;32m      5\u001b[0m \u001b[0;31m#print(files)\u001b[0m\u001b[0;34m\u001b[0m\u001b[0;34m\u001b[0m\u001b[0;34m\u001b[0m\u001b[0m\n\u001b[1;32m      6\u001b[0m \u001b[0msize\u001b[0m \u001b[0;34m=\u001b[0m \u001b[0;36m6000\u001b[0m \u001b[0;31m# grid side length in pixels\u001b[0m\u001b[0;34m\u001b[0m\u001b[0;34m\u001b[0m\u001b[0m\n",
            "\u001b[0;31mFileNotFoundError\u001b[0m: [Errno 2] No such file or directory: '/content/gdrive/My Drive/colab/PIL/PRAW/pics/'"
          ]
        }
      ]
    },
    {
      "cell_type": "code",
      "metadata": {
        "id": "SkJRPagfATSI",
        "colab_type": "code",
        "colab": {}
      },
      "source": [
        "%mkdir sources PIL"
      ],
      "execution_count": null,
      "outputs": []
    }
  ]
}